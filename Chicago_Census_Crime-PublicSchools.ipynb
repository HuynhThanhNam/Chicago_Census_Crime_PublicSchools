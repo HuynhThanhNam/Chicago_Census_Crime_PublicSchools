{
 "cells": [
  {
   "cell_type": "code",
   "execution_count": 4,
   "id": "1b6398fb",
   "metadata": {
    "scrolled": true
   },
   "outputs": [],
   "source": [
    "import pandas as pd\n",
    "import sqlite3\n",
    "\n",
    "#read csv file by pandas\n",
    "school = pd.read_csv('ChicagoPublicSchools.csv')\n",
    "school.index = school.index + 1  #start index from 1\n",
    "\n",
    "crime = pd.read_csv('ChicagoCrimeData.csv')\n",
    "crime.index = crime.index + 1\n",
    "\n",
    "census = pd.read_csv('ChicagoCensusData.csv')\n",
    "census.index = census.index + 1\n",
    "\n",
    "#connect to database\n",
    "conn = sqlite3.connect('Chicago_dataset.db')\n",
    "c = conn.cursor()\n",
    "\n",
    "#drop table if exists\n",
    "c.execute(\" drop table if exists CHICAGO_PUBLIC_SCHOOLS \")\n",
    "c.execute(\" drop table if exists CHICAGO_CRIME_DATA \")\n",
    "c.execute(\" drop table if exists CENSUS_DATA \")\n",
    "\n",
    "#load datatable into database\n",
    "school.to_sql('CHICAGO_PUBLIC_SCHOOLS',conn)\n",
    "crime.to_sql('CHICAGO_CRIME_DATA',conn)\n",
    "census.to_sql('CENSUS_DATA',conn)"
   ]
  },
  {
   "cell_type": "code",
   "execution_count": 25,
   "id": "7940cdaf",
   "metadata": {
    "scrolled": true
   },
   "outputs": [
    {
     "data": {
      "text/html": [
       "<style type=\"text/css\">\n",
       "</style>\n",
       "<table id=\"T_8766a_\">\n",
       "  <thead>\n",
       "    <tr>\n",
       "      <th class=\"col_heading level0 col0\" >index</th>\n",
       "      <th class=\"col_heading level0 col1\" >ID</th>\n",
       "      <th class=\"col_heading level0 col2\" >CASE_NUMBER</th>\n",
       "      <th class=\"col_heading level0 col3\" >DATE</th>\n",
       "      <th class=\"col_heading level0 col4\" >BLOCK</th>\n",
       "      <th class=\"col_heading level0 col5\" >IUCR</th>\n",
       "      <th class=\"col_heading level0 col6\" >PRIMARY_TYPE</th>\n",
       "      <th class=\"col_heading level0 col7\" >DESCRIPTION</th>\n",
       "      <th class=\"col_heading level0 col8\" >LOCATION_DESCRIPTION</th>\n",
       "      <th class=\"col_heading level0 col9\" >ARREST</th>\n",
       "      <th class=\"col_heading level0 col10\" >DOMESTIC</th>\n",
       "      <th class=\"col_heading level0 col11\" >BEAT</th>\n",
       "      <th class=\"col_heading level0 col12\" >DISTRICT</th>\n",
       "      <th class=\"col_heading level0 col13\" >WARD</th>\n",
       "      <th class=\"col_heading level0 col14\" >COMMUNITY_AREA_NUMBER</th>\n",
       "      <th class=\"col_heading level0 col15\" >FBICODE</th>\n",
       "      <th class=\"col_heading level0 col16\" >X_COORDINATE</th>\n",
       "      <th class=\"col_heading level0 col17\" >Y_COORDINATE</th>\n",
       "      <th class=\"col_heading level0 col18\" >YEAR</th>\n",
       "      <th class=\"col_heading level0 col19\" >LATITUDE</th>\n",
       "      <th class=\"col_heading level0 col20\" >LONGITUDE</th>\n",
       "      <th class=\"col_heading level0 col21\" >LOCATION</th>\n",
       "    </tr>\n",
       "  </thead>\n",
       "  <tbody>\n",
       "    <tr>\n",
       "      <td id=\"T_8766a_row0_col0\" class=\"data row0 col0\" >1</td>\n",
       "      <td id=\"T_8766a_row0_col1\" class=\"data row0 col1\" >3512276</td>\n",
       "      <td id=\"T_8766a_row0_col2\" class=\"data row0 col2\" >HK587712</td>\n",
       "      <td id=\"T_8766a_row0_col3\" class=\"data row0 col3\" >2004-08-28</td>\n",
       "      <td id=\"T_8766a_row0_col4\" class=\"data row0 col4\" >047XX S KEDZIE AVE</td>\n",
       "      <td id=\"T_8766a_row0_col5\" class=\"data row0 col5\" >890</td>\n",
       "      <td id=\"T_8766a_row0_col6\" class=\"data row0 col6\" >THEFT</td>\n",
       "      <td id=\"T_8766a_row0_col7\" class=\"data row0 col7\" >FROM BUILDING</td>\n",
       "      <td id=\"T_8766a_row0_col8\" class=\"data row0 col8\" >SMALL RETAIL STORE</td>\n",
       "      <td id=\"T_8766a_row0_col9\" class=\"data row0 col9\" >0</td>\n",
       "      <td id=\"T_8766a_row0_col10\" class=\"data row0 col10\" >0</td>\n",
       "      <td id=\"T_8766a_row0_col11\" class=\"data row0 col11\" >911</td>\n",
       "      <td id=\"T_8766a_row0_col12\" class=\"data row0 col12\" >9</td>\n",
       "      <td id=\"T_8766a_row0_col13\" class=\"data row0 col13\" >14.000000</td>\n",
       "      <td id=\"T_8766a_row0_col14\" class=\"data row0 col14\" >58.000000</td>\n",
       "      <td id=\"T_8766a_row0_col15\" class=\"data row0 col15\" >6</td>\n",
       "      <td id=\"T_8766a_row0_col16\" class=\"data row0 col16\" >1155838.000000</td>\n",
       "      <td id=\"T_8766a_row0_col17\" class=\"data row0 col17\" >1873050.000000</td>\n",
       "      <td id=\"T_8766a_row0_col18\" class=\"data row0 col18\" >2004</td>\n",
       "      <td id=\"T_8766a_row0_col19\" class=\"data row0 col19\" >41.807440</td>\n",
       "      <td id=\"T_8766a_row0_col20\" class=\"data row0 col20\" >-87.703956</td>\n",
       "      <td id=\"T_8766a_row0_col21\" class=\"data row0 col21\" >(41.8074405, -87.703955849)</td>\n",
       "    </tr>\n",
       "    <tr>\n",
       "      <td id=\"T_8766a_row1_col0\" class=\"data row1 col0\" >2</td>\n",
       "      <td id=\"T_8766a_row1_col1\" class=\"data row1 col1\" >3406613</td>\n",
       "      <td id=\"T_8766a_row1_col2\" class=\"data row1 col2\" >HK456306</td>\n",
       "      <td id=\"T_8766a_row1_col3\" class=\"data row1 col3\" >2004-06-26</td>\n",
       "      <td id=\"T_8766a_row1_col4\" class=\"data row1 col4\" >009XX N CENTRAL PARK AVE</td>\n",
       "      <td id=\"T_8766a_row1_col5\" class=\"data row1 col5\" >820</td>\n",
       "      <td id=\"T_8766a_row1_col6\" class=\"data row1 col6\" >THEFT</td>\n",
       "      <td id=\"T_8766a_row1_col7\" class=\"data row1 col7\" >$500 AND UNDER</td>\n",
       "      <td id=\"T_8766a_row1_col8\" class=\"data row1 col8\" >OTHER</td>\n",
       "      <td id=\"T_8766a_row1_col9\" class=\"data row1 col9\" >0</td>\n",
       "      <td id=\"T_8766a_row1_col10\" class=\"data row1 col10\" >0</td>\n",
       "      <td id=\"T_8766a_row1_col11\" class=\"data row1 col11\" >1112</td>\n",
       "      <td id=\"T_8766a_row1_col12\" class=\"data row1 col12\" >11</td>\n",
       "      <td id=\"T_8766a_row1_col13\" class=\"data row1 col13\" >27.000000</td>\n",
       "      <td id=\"T_8766a_row1_col14\" class=\"data row1 col14\" >23.000000</td>\n",
       "      <td id=\"T_8766a_row1_col15\" class=\"data row1 col15\" >6</td>\n",
       "      <td id=\"T_8766a_row1_col16\" class=\"data row1 col16\" >1152206.000000</td>\n",
       "      <td id=\"T_8766a_row1_col17\" class=\"data row1 col17\" >1906127.000000</td>\n",
       "      <td id=\"T_8766a_row1_col18\" class=\"data row1 col18\" >2004</td>\n",
       "      <td id=\"T_8766a_row1_col19\" class=\"data row1 col19\" >41.898280</td>\n",
       "      <td id=\"T_8766a_row1_col20\" class=\"data row1 col20\" >-87.716406</td>\n",
       "      <td id=\"T_8766a_row1_col21\" class=\"data row1 col21\" >(41.898279962, -87.716405505)</td>\n",
       "    </tr>\n",
       "    <tr>\n",
       "      <td id=\"T_8766a_row2_col0\" class=\"data row2 col0\" >3</td>\n",
       "      <td id=\"T_8766a_row2_col1\" class=\"data row2 col1\" >8002131</td>\n",
       "      <td id=\"T_8766a_row2_col2\" class=\"data row2 col2\" >HT233595</td>\n",
       "      <td id=\"T_8766a_row2_col3\" class=\"data row2 col3\" >2011-04-04</td>\n",
       "      <td id=\"T_8766a_row2_col4\" class=\"data row2 col4\" >043XX S WABASH AVE</td>\n",
       "      <td id=\"T_8766a_row2_col5\" class=\"data row2 col5\" >820</td>\n",
       "      <td id=\"T_8766a_row2_col6\" class=\"data row2 col6\" >THEFT</td>\n",
       "      <td id=\"T_8766a_row2_col7\" class=\"data row2 col7\" >$500 AND UNDER</td>\n",
       "      <td id=\"T_8766a_row2_col8\" class=\"data row2 col8\" >NURSING HOME/RETIREMENT HOME</td>\n",
       "      <td id=\"T_8766a_row2_col9\" class=\"data row2 col9\" >0</td>\n",
       "      <td id=\"T_8766a_row2_col10\" class=\"data row2 col10\" >0</td>\n",
       "      <td id=\"T_8766a_row2_col11\" class=\"data row2 col11\" >221</td>\n",
       "      <td id=\"T_8766a_row2_col12\" class=\"data row2 col12\" >2</td>\n",
       "      <td id=\"T_8766a_row2_col13\" class=\"data row2 col13\" >3.000000</td>\n",
       "      <td id=\"T_8766a_row2_col14\" class=\"data row2 col14\" >38.000000</td>\n",
       "      <td id=\"T_8766a_row2_col15\" class=\"data row2 col15\" >6</td>\n",
       "      <td id=\"T_8766a_row2_col16\" class=\"data row2 col16\" >1177436.000000</td>\n",
       "      <td id=\"T_8766a_row2_col17\" class=\"data row2 col17\" >1876313.000000</td>\n",
       "      <td id=\"T_8766a_row2_col18\" class=\"data row2 col18\" >2011</td>\n",
       "      <td id=\"T_8766a_row2_col19\" class=\"data row2 col19\" >41.815933</td>\n",
       "      <td id=\"T_8766a_row2_col20\" class=\"data row2 col20\" >-87.624642</td>\n",
       "      <td id=\"T_8766a_row2_col21\" class=\"data row2 col21\" >(41.815933131, -87.624642127)</td>\n",
       "    </tr>\n",
       "    <tr>\n",
       "      <td id=\"T_8766a_row3_col0\" class=\"data row3 col0\" >4</td>\n",
       "      <td id=\"T_8766a_row3_col1\" class=\"data row3 col1\" >7903289</td>\n",
       "      <td id=\"T_8766a_row3_col2\" class=\"data row3 col2\" >HT133522</td>\n",
       "      <td id=\"T_8766a_row3_col3\" class=\"data row3 col3\" >2010-12-30</td>\n",
       "      <td id=\"T_8766a_row3_col4\" class=\"data row3 col4\" >083XX S KINGSTON AVE</td>\n",
       "      <td id=\"T_8766a_row3_col5\" class=\"data row3 col5\" >840</td>\n",
       "      <td id=\"T_8766a_row3_col6\" class=\"data row3 col6\" >THEFT</td>\n",
       "      <td id=\"T_8766a_row3_col7\" class=\"data row3 col7\" >FINANCIAL ID THEFT: OVER $300</td>\n",
       "      <td id=\"T_8766a_row3_col8\" class=\"data row3 col8\" >RESIDENCE</td>\n",
       "      <td id=\"T_8766a_row3_col9\" class=\"data row3 col9\" >0</td>\n",
       "      <td id=\"T_8766a_row3_col10\" class=\"data row3 col10\" >0</td>\n",
       "      <td id=\"T_8766a_row3_col11\" class=\"data row3 col11\" >423</td>\n",
       "      <td id=\"T_8766a_row3_col12\" class=\"data row3 col12\" >4</td>\n",
       "      <td id=\"T_8766a_row3_col13\" class=\"data row3 col13\" >7.000000</td>\n",
       "      <td id=\"T_8766a_row3_col14\" class=\"data row3 col14\" >46.000000</td>\n",
       "      <td id=\"T_8766a_row3_col15\" class=\"data row3 col15\" >6</td>\n",
       "      <td id=\"T_8766a_row3_col16\" class=\"data row3 col16\" >1194622.000000</td>\n",
       "      <td id=\"T_8766a_row3_col17\" class=\"data row3 col17\" >1850125.000000</td>\n",
       "      <td id=\"T_8766a_row3_col18\" class=\"data row3 col18\" >2010</td>\n",
       "      <td id=\"T_8766a_row3_col19\" class=\"data row3 col19\" >41.743665</td>\n",
       "      <td id=\"T_8766a_row3_col20\" class=\"data row3 col20\" >-87.562463</td>\n",
       "      <td id=\"T_8766a_row3_col21\" class=\"data row3 col21\" >(41.743665322, -87.562462756)</td>\n",
       "    </tr>\n",
       "    <tr>\n",
       "      <td id=\"T_8766a_row4_col0\" class=\"data row4 col0\" >5</td>\n",
       "      <td id=\"T_8766a_row4_col1\" class=\"data row4 col1\" >10402076</td>\n",
       "      <td id=\"T_8766a_row4_col2\" class=\"data row4 col2\" >HZ138551</td>\n",
       "      <td id=\"T_8766a_row4_col3\" class=\"data row4 col3\" >2016-02-02</td>\n",
       "      <td id=\"T_8766a_row4_col4\" class=\"data row4 col4\" >033XX W 66TH ST</td>\n",
       "      <td id=\"T_8766a_row4_col5\" class=\"data row4 col5\" >820</td>\n",
       "      <td id=\"T_8766a_row4_col6\" class=\"data row4 col6\" >THEFT</td>\n",
       "      <td id=\"T_8766a_row4_col7\" class=\"data row4 col7\" >$500 AND UNDER</td>\n",
       "      <td id=\"T_8766a_row4_col8\" class=\"data row4 col8\" >ALLEY</td>\n",
       "      <td id=\"T_8766a_row4_col9\" class=\"data row4 col9\" >0</td>\n",
       "      <td id=\"T_8766a_row4_col10\" class=\"data row4 col10\" >0</td>\n",
       "      <td id=\"T_8766a_row4_col11\" class=\"data row4 col11\" >831</td>\n",
       "      <td id=\"T_8766a_row4_col12\" class=\"data row4 col12\" >8</td>\n",
       "      <td id=\"T_8766a_row4_col13\" class=\"data row4 col13\" >15.000000</td>\n",
       "      <td id=\"T_8766a_row4_col14\" class=\"data row4 col14\" >66.000000</td>\n",
       "      <td id=\"T_8766a_row4_col15\" class=\"data row4 col15\" >6</td>\n",
       "      <td id=\"T_8766a_row4_col16\" class=\"data row4 col16\" >1155240.000000</td>\n",
       "      <td id=\"T_8766a_row4_col17\" class=\"data row4 col17\" >1860661.000000</td>\n",
       "      <td id=\"T_8766a_row4_col18\" class=\"data row4 col18\" >2016</td>\n",
       "      <td id=\"T_8766a_row4_col19\" class=\"data row4 col19\" >41.773455</td>\n",
       "      <td id=\"T_8766a_row4_col20\" class=\"data row4 col20\" >-87.706480</td>\n",
       "      <td id=\"T_8766a_row4_col21\" class=\"data row4 col21\" >(41.773455295, -87.706480471)</td>\n",
       "    </tr>\n",
       "  </tbody>\n",
       "</table>\n"
      ],
      "text/plain": [
       "<pandas.io.formats.style.Styler at 0x1f2e2186880>"
      ]
     },
     "execution_count": 25,
     "metadata": {},
     "output_type": "execute_result"
    }
   ],
   "source": [
    "sta = \"SELECT * FROM CHICAGO_CRIME_DATA ;\"\n",
    "pd.set_option('display.max_columns',100)\n",
    "pd.set_option('display.max_rows', 1000)\n",
    "da = pd.read_sql_query(sta, conn).head()\n",
    "da.style.hide_index() "
   ]
  },
  {
   "cell_type": "code",
   "execution_count": 24,
   "id": "e2260cb6",
   "metadata": {
    "scrolled": true
   },
   "outputs": [
    {
     "name": "stdout",
     "output_type": "stream",
     "text": [
      "<class 'pandas.core.frame.DataFrame'>\n",
      "RangeIndex: 78 entries, 0 to 77\n",
      "Data columns (total 10 columns):\n",
      " #   Column                                        Non-Null Count  Dtype  \n",
      "---  ------                                        --------------  -----  \n",
      " 0   index                                         78 non-null     int64  \n",
      " 1   COMMUNITY_AREA_NUMBER                         77 non-null     float64\n",
      " 2   COMMUNITY_AREA_NAME                           78 non-null     object \n",
      " 3   PERCENT_OF_HOUSING_CROWDED                    78 non-null     float64\n",
      " 4   PERCENT_HOUSEHOLDS_BELOW_POVERTY              78 non-null     float64\n",
      " 5   PERCENT_AGED_16__UNEMPLOYED                   78 non-null     float64\n",
      " 6   PERCENT_AGED_25__WITHOUT_HIGH_SCHOOL_DIPLOMA  78 non-null     float64\n",
      " 7   PERCENT_AGED_UNDER_18_OR_OVER_64              78 non-null     float64\n",
      " 8   PER_CAPITA_INCOME                             78 non-null     int64  \n",
      " 9   HARDSHIP_INDEX                                77 non-null     float64\n",
      "dtypes: float64(7), int64(2), object(1)\n",
      "memory usage: 6.2+ KB\n"
     ]
    }
   ],
   "source": [
    "sta = \"SELECT * FROM CENSUS_DATA;\"\n",
    "pd.set_option('display.max_columns',100)\n",
    "pd.set_option('display.max_rows', 1000)\n",
    "da = pd.read_sql_query(sta, conn)\n",
    "da.info()"
   ]
  },
  {
   "cell_type": "markdown",
   "id": "ad1f11c6",
   "metadata": {},
   "source": [
    "### Find the total number of crimes recorded in the CRIME table."
   ]
  },
  {
   "cell_type": "code",
   "execution_count": 13,
   "id": "553ffe8b",
   "metadata": {},
   "outputs": [
    {
     "data": {
      "text/html": [
       "<style type=\"text/css\">\n",
       "</style>\n",
       "<table id=\"T_555b6_\">\n",
       "  <thead>\n",
       "    <tr>\n",
       "      <th class=\"col_heading level0 col0\" >TOTAL_NUMBER_OF_CRIMES</th>\n",
       "    </tr>\n",
       "  </thead>\n",
       "  <tbody>\n",
       "    <tr>\n",
       "      <td id=\"T_555b6_row0_col0\" class=\"data row0 col0\" >533</td>\n",
       "    </tr>\n",
       "  </tbody>\n",
       "</table>\n"
      ],
      "text/plain": [
       "<pandas.io.formats.style.Styler at 0x1f2e09352e0>"
      ]
     },
     "execution_count": 13,
     "metadata": {},
     "output_type": "execute_result"
    }
   ],
   "source": [
    "statement = \"   SELECT COUNT(CASE_NUMBER) AS TOTAL_NUMBER_OF_CRIMES \\\n",
    "                FROM CHICAGO_CRIME_DATA\"\n",
    "da = pd.read_sql_query(statement, conn)\n",
    "da.style.hide_index() #remove index label"
   ]
  },
  {
   "cell_type": "markdown",
   "id": "af7f2079",
   "metadata": {},
   "source": [
    "### List community areas with per capita income less than 11000."
   ]
  },
  {
   "cell_type": "code",
   "execution_count": 14,
   "id": "7fef9e17",
   "metadata": {},
   "outputs": [
    {
     "data": {
      "text/html": [
       "<style type=\"text/css\">\n",
       "</style>\n",
       "<table id=\"T_d01ec_\">\n",
       "  <thead>\n",
       "    <tr>\n",
       "      <th class=\"col_heading level0 col0\" >COMMUNITY_AREA_NAME</th>\n",
       "      <th class=\"col_heading level0 col1\" >PER_CAPITA_INCOME</th>\n",
       "    </tr>\n",
       "  </thead>\n",
       "  <tbody>\n",
       "    <tr>\n",
       "      <td id=\"T_d01ec_row0_col0\" class=\"data row0 col0\" >West Garfield Park</td>\n",
       "      <td id=\"T_d01ec_row0_col1\" class=\"data row0 col1\" >10934</td>\n",
       "    </tr>\n",
       "    <tr>\n",
       "      <td id=\"T_d01ec_row1_col0\" class=\"data row1 col0\" >South Lawndale</td>\n",
       "      <td id=\"T_d01ec_row1_col1\" class=\"data row1 col1\" >10402</td>\n",
       "    </tr>\n",
       "    <tr>\n",
       "      <td id=\"T_d01ec_row2_col0\" class=\"data row2 col0\" >Fuller Park</td>\n",
       "      <td id=\"T_d01ec_row2_col1\" class=\"data row2 col1\" >10432</td>\n",
       "    </tr>\n",
       "    <tr>\n",
       "      <td id=\"T_d01ec_row3_col0\" class=\"data row3 col0\" >Riverdale</td>\n",
       "      <td id=\"T_d01ec_row3_col1\" class=\"data row3 col1\" >8201</td>\n",
       "    </tr>\n",
       "  </tbody>\n",
       "</table>\n"
      ],
      "text/plain": [
       "<pandas.io.formats.style.Styler at 0x1f2e2186d90>"
      ]
     },
     "execution_count": 14,
     "metadata": {},
     "output_type": "execute_result"
    }
   ],
   "source": [
    "statement = \"   SELECT COMMUNITY_AREA_NAME, PER_CAPITA_INCOME \\\n",
    "                FROM CENSUS_DATA \\\n",
    "                WHERE PER_CAPITA_INCOME < 11000;\"\n",
    "da = pd.read_sql_query(statement, conn)\n",
    "da.style.hide_index() #remove index label"
   ]
  },
  {
   "cell_type": "markdown",
   "id": "2f3c47a3",
   "metadata": {},
   "source": [
    "### List all case numbers for crimes  involving minors?(children are not considered minors for the purposes of crime analysis)"
   ]
  },
  {
   "cell_type": "code",
   "execution_count": 15,
   "id": "191a3198",
   "metadata": {},
   "outputs": [
    {
     "data": {
      "text/html": [
       "<style type=\"text/css\">\n",
       "</style>\n",
       "<table id=\"T_ea49e_\">\n",
       "  <thead>\n",
       "    <tr>\n",
       "      <th class=\"col_heading level0 col0\" >CASE_NUMBER</th>\n",
       "      <th class=\"col_heading level0 col1\" >DESCRIPTION</th>\n",
       "    </tr>\n",
       "  </thead>\n",
       "  <tbody>\n",
       "    <tr>\n",
       "      <td id=\"T_ea49e_row0_col0\" class=\"data row0 col0\" >HL266884</td>\n",
       "      <td id=\"T_ea49e_row0_col1\" class=\"data row0 col1\" >SELL/GIVE/DEL LIQUOR TO MINOR</td>\n",
       "    </tr>\n",
       "    <tr>\n",
       "      <td id=\"T_ea49e_row1_col0\" class=\"data row1 col0\" >HK238408</td>\n",
       "      <td id=\"T_ea49e_row1_col1\" class=\"data row1 col1\" >ILLEGAL CONSUMPTION BY MINOR</td>\n",
       "    </tr>\n",
       "  </tbody>\n",
       "</table>\n"
      ],
      "text/plain": [
       "<pandas.io.formats.style.Styler at 0x1f2e2187b80>"
      ]
     },
     "execution_count": 15,
     "metadata": {},
     "output_type": "execute_result"
    }
   ],
   "source": [
    "statement = \"   SELECT CASE_NUMBER, DESCRIPTION  \\\n",
    "                FROM CHICAGO_CRIME_DATA \\\n",
    "                WHERE DESCRIPTION LIKE '%MINOR%'\"\n",
    "da = pd.read_sql_query(statement, conn)\n",
    "da.style.hide_index() #remove index label"
   ]
  },
  {
   "cell_type": "markdown",
   "id": "748cdfcb",
   "metadata": {},
   "source": [
    "### List all kidnapping crimes involving a child?"
   ]
  },
  {
   "cell_type": "code",
   "execution_count": 16,
   "id": "ae9d47f8",
   "metadata": {},
   "outputs": [
    {
     "data": {
      "text/html": [
       "<style type=\"text/css\">\n",
       "</style>\n",
       "<table id=\"T_2eff6_\">\n",
       "  <thead>\n",
       "    <tr>\n",
       "      <th class=\"col_heading level0 col0\" >CASE_NUMBER</th>\n",
       "      <th class=\"col_heading level0 col1\" >PRIMARY_TYPE</th>\n",
       "      <th class=\"col_heading level0 col2\" >DESCRIPTION</th>\n",
       "    </tr>\n",
       "  </thead>\n",
       "  <tbody>\n",
       "    <tr>\n",
       "      <td id=\"T_2eff6_row0_col0\" class=\"data row0 col0\" >HN144152</td>\n",
       "      <td id=\"T_2eff6_row0_col1\" class=\"data row0 col1\" >KIDNAPPING</td>\n",
       "      <td id=\"T_2eff6_row0_col2\" class=\"data row0 col2\" >CHILD ABDUCTION/STRANGER</td>\n",
       "    </tr>\n",
       "  </tbody>\n",
       "</table>\n"
      ],
      "text/plain": [
       "<pandas.io.formats.style.Styler at 0x1f2e2173160>"
      ]
     },
     "execution_count": 16,
     "metadata": {},
     "output_type": "execute_result"
    }
   ],
   "source": [
    "statement = \"   SELECT CASE_NUMBER, PRIMARY_TYPE, DESCRIPTION  \\\n",
    "                FROM CHICAGO_CRIME_DATA \\\n",
    "                GROUP BY PRIMARY_TYPE \\\n",
    "                HAVING PRIMARY_TYPE like 'KIDNAPPING' AND DESCRIPTION LIKE '%CHILD%' \"\n",
    "da = pd.read_sql_query(statement, conn)\n",
    "da.style.hide_index() #remove index label"
   ]
  },
  {
   "cell_type": "markdown",
   "id": "f34d7d79",
   "metadata": {},
   "source": [
    "### What kinds of crimes were recorded at schools?"
   ]
  },
  {
   "cell_type": "code",
   "execution_count": 17,
   "id": "1409d381",
   "metadata": {
    "scrolled": false
   },
   "outputs": [
    {
     "data": {
      "text/html": [
       "<style type=\"text/css\">\n",
       "</style>\n",
       "<table id=\"T_08eef_\">\n",
       "  <thead>\n",
       "    <tr>\n",
       "      <th class=\"col_heading level0 col0\" >PRIMARY_TYPE</th>\n",
       "    </tr>\n",
       "  </thead>\n",
       "  <tbody>\n",
       "    <tr>\n",
       "      <td id=\"T_08eef_row0_col0\" class=\"data row0 col0\" >BATTERY</td>\n",
       "    </tr>\n",
       "    <tr>\n",
       "      <td id=\"T_08eef_row1_col0\" class=\"data row1 col0\" >CRIMINAL DAMAGE</td>\n",
       "    </tr>\n",
       "    <tr>\n",
       "      <td id=\"T_08eef_row2_col0\" class=\"data row2 col0\" >NARCOTICS</td>\n",
       "    </tr>\n",
       "    <tr>\n",
       "      <td id=\"T_08eef_row3_col0\" class=\"data row3 col0\" >ASSAULT</td>\n",
       "    </tr>\n",
       "    <tr>\n",
       "      <td id=\"T_08eef_row4_col0\" class=\"data row4 col0\" >CRIMINAL TRESPASS</td>\n",
       "    </tr>\n",
       "    <tr>\n",
       "      <td id=\"T_08eef_row5_col0\" class=\"data row5 col0\" >PUBLIC PEACE VIOLATION</td>\n",
       "    </tr>\n",
       "  </tbody>\n",
       "</table>\n"
      ],
      "text/plain": [
       "<pandas.io.formats.style.Styler at 0x1f2e2173eb0>"
      ]
     },
     "execution_count": 17,
     "metadata": {},
     "output_type": "execute_result"
    }
   ],
   "source": [
    "statement = \"   SELECT distinct(PRIMARY_TYPE) \\\n",
    "                FROM CHICAGO_CRIME_DATA \\\n",
    "                WHERE LOCATION_DESCRIPTION LIKE 'SCHOOL%' \"\n",
    "#statement = \" select distinct(LOCATION_DESCRIPTION) FROM CHICAGO_CRIME_DATA\" \n",
    "da = pd.read_sql_query(statement, conn)\n",
    "da.style.hide_index() #remove index label"
   ]
  },
  {
   "cell_type": "markdown",
   "id": "433e3dc1",
   "metadata": {},
   "source": [
    "### List the average safety score for each type of school."
   ]
  },
  {
   "cell_type": "code",
   "execution_count": 18,
   "id": "f32356ff",
   "metadata": {},
   "outputs": [
    {
     "data": {
      "text/html": [
       "<style type=\"text/css\">\n",
       "</style>\n",
       "<table id=\"T_1024f_\">\n",
       "  <thead>\n",
       "    <tr>\n",
       "      <th class=\"col_heading level0 col0\" >Elementary, Middle, or High School</th>\n",
       "      <th class=\"col_heading level0 col1\" >AVERAGE_SAFETY_SCORE</th>\n",
       "    </tr>\n",
       "  </thead>\n",
       "  <tbody>\n",
       "    <tr>\n",
       "      <td id=\"T_1024f_row0_col0\" class=\"data row0 col0\" >ES</td>\n",
       "      <td id=\"T_1024f_row0_col1\" class=\"data row0 col1\" >49.520384</td>\n",
       "    </tr>\n",
       "    <tr>\n",
       "      <td id=\"T_1024f_row1_col0\" class=\"data row1 col0\" >HS</td>\n",
       "      <td id=\"T_1024f_row1_col1\" class=\"data row1 col1\" >49.623529</td>\n",
       "    </tr>\n",
       "    <tr>\n",
       "      <td id=\"T_1024f_row2_col0\" class=\"data row2 col0\" >MS</td>\n",
       "      <td id=\"T_1024f_row2_col1\" class=\"data row2 col1\" >48.000000</td>\n",
       "    </tr>\n",
       "  </tbody>\n",
       "</table>\n"
      ],
      "text/plain": [
       "<pandas.io.formats.style.Styler at 0x1f2e2173dc0>"
      ]
     },
     "execution_count": 18,
     "metadata": {},
     "output_type": "execute_result"
    }
   ],
   "source": [
    "statement =     'SELECT \"Elementary, Middle, or High School\", AVG(SAFETY_SCORE) AS AVERAGE_SAFETY_SCORE \\\n",
    "                 FROM CHICAGO_PUBLIC_SCHOOLS \\\n",
    "                 GROUP BY \"Elementary, Middle, or High School\";'\n",
    "da = pd.read_sql_query(statement, conn)\n",
    "da.style.hide_index() #remove index label"
   ]
  },
  {
   "cell_type": "markdown",
   "id": "bdb14f2b",
   "metadata": {},
   "source": [
    "### List 5 community areas with highest % of households below poverty line"
   ]
  },
  {
   "cell_type": "code",
   "execution_count": 19,
   "id": "1ba057e7",
   "metadata": {},
   "outputs": [
    {
     "data": {
      "text/html": [
       "<style type=\"text/css\">\n",
       "</style>\n",
       "<table id=\"T_77ffc_\">\n",
       "  <thead>\n",
       "    <tr>\n",
       "      <th class=\"col_heading level0 col0\" >COMMUNITY_AREA_NAME</th>\n",
       "      <th class=\"col_heading level0 col1\" >PERCENT_HOUSEHOLDS_BELOW_POVERTY</th>\n",
       "    </tr>\n",
       "  </thead>\n",
       "  <tbody>\n",
       "    <tr>\n",
       "      <td id=\"T_77ffc_row0_col0\" class=\"data row0 col0\" >Riverdale</td>\n",
       "      <td id=\"T_77ffc_row0_col1\" class=\"data row0 col1\" >56.500000</td>\n",
       "    </tr>\n",
       "    <tr>\n",
       "      <td id=\"T_77ffc_row1_col0\" class=\"data row1 col0\" >Fuller Park</td>\n",
       "      <td id=\"T_77ffc_row1_col1\" class=\"data row1 col1\" >51.200000</td>\n",
       "    </tr>\n",
       "    <tr>\n",
       "      <td id=\"T_77ffc_row2_col0\" class=\"data row2 col0\" >Englewood</td>\n",
       "      <td id=\"T_77ffc_row2_col1\" class=\"data row2 col1\" >46.600000</td>\n",
       "    </tr>\n",
       "    <tr>\n",
       "      <td id=\"T_77ffc_row3_col0\" class=\"data row3 col0\" >North Lawndale</td>\n",
       "      <td id=\"T_77ffc_row3_col1\" class=\"data row3 col1\" >43.100000</td>\n",
       "    </tr>\n",
       "    <tr>\n",
       "      <td id=\"T_77ffc_row4_col0\" class=\"data row4 col0\" >East Garfield Park</td>\n",
       "      <td id=\"T_77ffc_row4_col1\" class=\"data row4 col1\" >42.400000</td>\n",
       "    </tr>\n",
       "  </tbody>\n",
       "</table>\n"
      ],
      "text/plain": [
       "<pandas.io.formats.style.Styler at 0x1f2e2173fa0>"
      ]
     },
     "execution_count": 19,
     "metadata": {},
     "output_type": "execute_result"
    }
   ],
   "source": [
    "statement = \"   SELECT COMMUNITY_AREA_NAME, PERCENT_HOUSEHOLDS_BELOW_POVERTY \\\n",
    "                FROM CENSUS_DATA\\\n",
    "                ORDER BY PERCENT_HOUSEHOLDS_BELOW_POVERTY DESC\\\n",
    "                LIMIT 5\"\n",
    "da = pd.read_sql_query(statement, conn)\n",
    "da.style.hide_index() #remove index label"
   ]
  },
  {
   "cell_type": "markdown",
   "id": "16472a93",
   "metadata": {},
   "source": [
    "### Which community area is most crime prone?"
   ]
  },
  {
   "cell_type": "code",
   "execution_count": 20,
   "id": "ea6f2d2c",
   "metadata": {},
   "outputs": [
    {
     "data": {
      "text/html": [
       "<style type=\"text/css\">\n",
       "</style>\n",
       "<table id=\"T_df616_\">\n",
       "  <thead>\n",
       "    <tr>\n",
       "      <th class=\"col_heading level0 col0\" >COMMUNITY_AREA_NUMBER</th>\n",
       "      <th class=\"col_heading level0 col1\" >NUMBER_OF_CRIME</th>\n",
       "    </tr>\n",
       "  </thead>\n",
       "  <tbody>\n",
       "    <tr>\n",
       "      <td id=\"T_df616_row0_col0\" class=\"data row0 col0\" >25.000000</td>\n",
       "      <td id=\"T_df616_row0_col1\" class=\"data row0 col1\" >43</td>\n",
       "    </tr>\n",
       "  </tbody>\n",
       "</table>\n"
      ],
      "text/plain": [
       "<pandas.io.formats.style.Styler at 0x1f2e2186820>"
      ]
     },
     "execution_count": 20,
     "metadata": {},
     "output_type": "execute_result"
    }
   ],
   "source": [
    "statement = \"   SELECT COMMUNITY_AREA_NUMBER, COUNT(COMMUNITY_AREA_NUMBER) AS NUMBER_OF_CRIME \\\n",
    "                FROM CHICAGO_CRIME_DATA \\\n",
    "                GROUP BY COMMUNITY_AREA_NUMBER \\\n",
    "                ORDER BY 2 DESC \\\n",
    "                LIMIT 1\"\n",
    "da = pd.read_sql_query(statement, conn)\n",
    "da.style.hide_index() #remove index label"
   ]
  },
  {
   "cell_type": "markdown",
   "id": "e58f675d",
   "metadata": {},
   "source": [
    "### Use a sub-query to find the name of the community area with highest hardship index"
   ]
  },
  {
   "cell_type": "code",
   "execution_count": 21,
   "id": "59821105",
   "metadata": {},
   "outputs": [
    {
     "data": {
      "text/html": [
       "<style type=\"text/css\">\n",
       "</style>\n",
       "<table id=\"T_2a5f9_\">\n",
       "  <thead>\n",
       "    <tr>\n",
       "      <th class=\"col_heading level0 col0\" >COMMUNITY_AREA_NUMBER</th>\n",
       "      <th class=\"col_heading level0 col1\" >COMMUNITY_AREA_NAME</th>\n",
       "      <th class=\"col_heading level0 col2\" >HARDSHIP_INDEX</th>\n",
       "    </tr>\n",
       "  </thead>\n",
       "  <tbody>\n",
       "    <tr>\n",
       "      <td id=\"T_2a5f9_row0_col0\" class=\"data row0 col0\" >54.000000</td>\n",
       "      <td id=\"T_2a5f9_row0_col1\" class=\"data row0 col1\" >Riverdale</td>\n",
       "      <td id=\"T_2a5f9_row0_col2\" class=\"data row0 col2\" >98.000000</td>\n",
       "    </tr>\n",
       "  </tbody>\n",
       "</table>\n"
      ],
      "text/plain": [
       "<pandas.io.formats.style.Styler at 0x1f2e21862e0>"
      ]
     },
     "execution_count": 21,
     "metadata": {},
     "output_type": "execute_result"
    }
   ],
   "source": [
    "statement = \"   SELECT COMMUNITY_AREA_NUMBER, COMMUNITY_AREA_NAME, HARDSHIP_INDEX \\\n",
    "                FROM CENSUS_DATA \\\n",
    "                WHERE HARDSHIP_INDEX = (SELECT MAX(HARDSHIP_INDEX) FROM CENSUS_DATA) \"\n",
    "da = pd.read_sql_query(statement, conn)\n",
    "da.style.hide_index() #remove index label"
   ]
  },
  {
   "cell_type": "markdown",
   "id": "784238e1",
   "metadata": {},
   "source": [
    "### Use a sub-query to determine the Community Area Name with most number of crimes?"
   ]
  },
  {
   "cell_type": "code",
   "execution_count": 22,
   "id": "0376fc8d",
   "metadata": {},
   "outputs": [
    {
     "data": {
      "text/html": [
       "<style type=\"text/css\">\n",
       "</style>\n",
       "<table id=\"T_cd4d5_\">\n",
       "  <thead>\n",
       "    <tr>\n",
       "      <th class=\"col_heading level0 col0\" >COMMUNITY_AREA_NAME</th>\n",
       "      <th class=\"col_heading level0 col1\" >MOST_NUMBER_OF_CRIMES</th>\n",
       "    </tr>\n",
       "  </thead>\n",
       "  <tbody>\n",
       "    <tr>\n",
       "      <td id=\"T_cd4d5_row0_col0\" class=\"data row0 col0\" >Austin</td>\n",
       "      <td id=\"T_cd4d5_row0_col1\" class=\"data row0 col1\" >43</td>\n",
       "    </tr>\n",
       "  </tbody>\n",
       "</table>\n"
      ],
      "text/plain": [
       "<pandas.io.formats.style.Styler at 0x1f2e218c1f0>"
      ]
     },
     "execution_count": 22,
     "metadata": {},
     "output_type": "execute_result"
    }
   ],
   "source": [
    "statement = \"   SELECT COMMUNITY_AREA_NAME, MAX(CRIME) AS MOST_NUMBER_OF_CRIMES \\\n",
    "                FROM \\\n",
    "                    (SELECT cd.COMMUNITY_AREA_NAME, count(ccd.COMMUNITY_AREA_NUMBER) as CRIME \\\n",
    "                    FROM CHICAGO_CRIME_DATA ccd,CENSUS_DATA cd \\\n",
    "                    WHERE ccd.COMMUNITY_AREA_NUMBER = cd.COMMUNITY_AREA_NUMBER \\\n",
    "                    GROUP BY cd.COMMUNITY_AREA_NAME) \"\n",
    "da = pd.read_sql_query(statement, conn)\n",
    "da.style.hide_index() #remove index label"
   ]
  }
 ],
 "metadata": {
  "kernelspec": {
   "display_name": "Python 3 (ipykernel)",
   "language": "python",
   "name": "python3"
  },
  "language_info": {
   "codemirror_mode": {
    "name": "ipython",
    "version": 3
   },
   "file_extension": ".py",
   "mimetype": "text/x-python",
   "name": "python",
   "nbconvert_exporter": "python",
   "pygments_lexer": "ipython3",
   "version": "3.9.7"
  }
 },
 "nbformat": 4,
 "nbformat_minor": 5
}
